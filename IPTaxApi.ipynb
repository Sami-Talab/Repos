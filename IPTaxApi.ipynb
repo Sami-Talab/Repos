{
  "nbformat": 4,
  "nbformat_minor": 0,
  "metadata": {
    "colab": {
      "provenance": [],
      "authorship_tag": "ABX9TyPFE2mkdU678hE6l+oNso2a",
      "include_colab_link": true
    },
    "kernelspec": {
      "name": "python3",
      "display_name": "Python 3"
    },
    "language_info": {
      "name": "python"
    }
  },
  "cells": [
    {
      "cell_type": "markdown",
      "metadata": {
        "id": "view-in-github",
        "colab_type": "text"
      },
      "source": [
        "<a href=\"https://colab.research.google.com/github/Sami-Talab/Repos/blob/main/IPTaxApi.ipynb\" target=\"_parent\"><img src=\"https://colab.research.google.com/assets/colab-badge.svg\" alt=\"Open In Colab\"/></a>"
      ]
    },
    {
      "cell_type": "markdown",
      "source": [
        "# Data Features: Tax Information"
      ],
      "metadata": {
        "id": "UYY4MCWwckB-"
      }
    },
    {
      "cell_type": "markdown",
      "source": [
        "Simple python program that uses the user's IP address to locate/validate the tax rates and VAT numbers.\n",
        "\n",
        "The project uses three APIs:\n",
        "1. Two in conjunction, namely, IPify (used to get the user's IP address automatically) and IPstack (to get the location details).\n",
        "2. Tax Data Api, to get tax rates for US and global location and validate VAT numbers.\n",
        "\n",
        "## Steps:\n",
        "1. User selects one of the three options: get tax rate, validate tax number, exit.\n",
        "2. If tax rate is selected the IP address APIs get the user's IP and pass it to the Tax Api to get the tax information.\n",
        "3. If validate tax number is chosen, the user inputs a location, and inputs a Tax/Vat number. Tax API will then validate it.\n",
        "4. If exit is picked, the program is terminated."
      ],
      "metadata": {
        "id": "6WhypMbxc1WQ"
      }
    },
    {
      "cell_type": "markdown",
      "source": [
        "## Setting Up the APIs:\n",
        "STEP 1: Sign up for IPstack Api: https://ipstack.com/\n",
        "\n",
        "*   Create an account and validate\n",
        "*   Obtain the API key\n",
        "\n",
        "STEP 2: Sign up for Tax Data Api: https://apilayer.com/marketplace/tax_data-api\n",
        "\n",
        "*   Same procedures as step 1.\n",
        "\n",
        "The APIs keys are stored in the Secrets tab. The function below retrieves them and it is called within the main function."
      ],
      "metadata": {
        "id": "GPbPPanafGAU"
      }
    },
    {
      "cell_type": "code",
      "source": [
        "from google.colab import userdata\n",
        "\n",
        "# function to retrieve API keys\n",
        "def get_api_keys():\n",
        "    #API key for IPstack\n",
        "    ipstack_api_key = userdata.get('IPSTACK_API_KEY')\n",
        "    #API key for Tax Data\n",
        "    tax_data_api_key = userdata.get('TAX_DATA_API_KEY')\n",
        "    #error handling\n",
        "    if not ipstack_api_key or not tax_data_api_key:\n",
        "        print(\"API keys are missing. Please set them as secrets in the 'Secrets' tab.\")\n",
        "        return None, None\n",
        "\n",
        "    return ipstack_api_key, tax_data_api_key"
      ],
      "metadata": {
        "id": "fT04X4iRqJga"
      },
      "execution_count": null,
      "outputs": []
    },
    {
      "cell_type": "markdown",
      "source": [
        "## Get the User's IP Address:\n",
        "This function makes a simple API call to the IPify service to retrieve the user's public IP address in JSON format. It uses the endpoint https://api.ipify.org?format=json, which returns the IP address associated with the device making the request. Error handling is incorporated to manage network issues, invalid responses, or server errors."
      ],
      "metadata": {
        "id": "hugilu5lhH4j"
      }
    },
    {
      "cell_type": "code",
      "execution_count": null,
      "metadata": {
        "id": "qzYBGOYecdYq"
      },
      "outputs": [],
      "source": [
        "import requests\n",
        "\n",
        "# function to get the user's public IP address\n",
        "# error handling for network issues and invalid responses is included\n",
        "def get_public_ip():\n",
        "    try:\n",
        "        response = requests.get(\"https://api.ipify.org?format=json\")\n",
        "        if response.status_code == 200:\n",
        "            ip_data = response.json()\n",
        "            return ip_data[\"ip\"]\n",
        "        else:\n",
        "            # handle non-200 status codes, (API rate limits or server issues)\n",
        "            print(f\"Error: Could not retrieve public IP (status code {response.status_code})\")\n",
        "            return None\n",
        "    except Exception as e:\n",
        "        # catch and display any network errors or exceptions\n",
        "        print(f\"Error: {e}\")\n",
        "        return None"
      ]
    },
    {
      "cell_type": "markdown",
      "source": [
        "After obtaining the JSON response, this function uses the IPstack API to extract detailed location information based on the provided IP address. The endpoint http://api.ipstack.com/{ip_address} is used, where the response includes geographic details such as country, region, city, and ZIP code. The function also handles potential errors, such as API rate limits, invalid API keys, and any exceptions that may occur during the request, ensuring that any issues are logged and managed appropriately."
      ],
      "metadata": {
        "id": "GashIyW0iE8g"
      }
    },
    {
      "cell_type": "code",
      "source": [
        "# function to get location information from IP address\n",
        "# using IPstack API, with error handling for response codes\n",
        "def get_location_from_ip(ip_address, ipstack_api_key):\n",
        "    url = f\"http://api.ipstack.com/{ip_address}?access_key={ipstack_api_key}\"\n",
        "\n",
        "    try:\n",
        "        response = requests.get(url)\n",
        "        if response.status_code == 200:\n",
        "            return response.json()\n",
        "        else:\n",
        "            # handle  API rate limits or invalid keys\n",
        "            print(f\"Error: Failed to get location data (status code {response.status_code})\")\n",
        "            return None\n",
        "    except Exception as e:\n",
        "        # any exceptions that may occur during the request\n",
        "        print(f\"Error: {e}\")\n",
        "        return None"
      ],
      "metadata": {
        "id": "dnBzF-uZiFu2"
      },
      "execution_count": null,
      "outputs": []
    },
    {
      "cell_type": "markdown",
      "source": [
        "## Getting the TAX information:\n",
        "### 1. US Tax rates:\n",
        "\n",
        "Tax API has different endpoints for US and global locations; hence the code is split into two functions.\n",
        "\n",
        "After obtaining the JSON response from the Tax Data API, this function extracts the tax rates for a given U.S. state, including state, county, and city tax rates. The endpoint https://api.apilayer.com/tax_data/us_rate_list?state={state_code} is used, providing detailed tax information for the state. If the API call is successful, the tax data is returned, which can be used for further calculations. The code handles and ensures cases like missing tax data for the state, rate limits, or server issues are managed.\n"
      ],
      "metadata": {
        "id": "CYK8B1NFiJ55"
      }
    },
    {
      "cell_type": "code",
      "source": [
        "# function to get US tax rates by state\n",
        "# using the Tax Data API, includes error handling and status code checks\n",
        "def get_us_tax_rates(state_code, tax_data_api_key):\n",
        "    tax_api_url = f\"https://api.apilayer.com/tax_data/us_rate_list?state={state_code}\"\n",
        "\n",
        "    headers = {\n",
        "        \"apikey\": tax_data_api_key\n",
        "    }\n",
        "\n",
        "    try:\n",
        "        response = requests.get(tax_api_url, headers=headers)\n",
        "        if response.status_code == 200:\n",
        "            return response.json()\n",
        "        elif response.status_code == 404:\n",
        "            # deal with cases where tax data is not available for the state\n",
        "            print(f\"Error: Tax data not found for state {state_code}. (status code 404)\")\n",
        "            return None\n",
        "        else:\n",
        "            # other potential API errors (rate limits or server issues)\n",
        "            print(f\"Error: Failed to get tax data (status code {response.status_code})\")\n",
        "            return None\n",
        "    except Exception as e:\n",
        "        # other  exceptions (such as network or server errors)\n",
        "        print(f\"Error: {e}\")\n",
        "        return None"
      ],
      "metadata": {
        "id": "Y3ByMVNMjLck"
      },
      "execution_count": null,
      "outputs": []
    },
    {
      "cell_type": "markdown",
      "source": [
        "## Global Tax rates:\n",
        "Similarly, after receiving a successful response, this function uses the Tax Data API to retrieve global tax rates for non-U.S. locations based on the provided country code. The endpoint is different (https://api.apilayer.com/tax_data/rates?country_code={country_code}). It is used to return relevant tax information, including the standard tax rate for the specified country."
      ],
      "metadata": {
        "id": "NkUxdXu3jUFb"
      }
    },
    {
      "cell_type": "code",
      "source": [
        "# function to get global tax rates for non-US locations\n",
        "# using the Tax Data API based on country code\n",
        "def get_global_tax_info(country_code, tax_data_api_key):\n",
        "    tax_api_url = f\"https://api.apilayer.com/tax_data/rates?country_code={country_code}\"\n",
        "\n",
        "    headers = {\n",
        "        \"apikey\": tax_data_api_key\n",
        "    }\n",
        "\n",
        "    try:\n",
        "        response = requests.get(tax_api_url, headers=headers)\n",
        "        if response.status_code == 200:\n",
        "            return response.json()\n",
        "        elif response.status_code == 404:\n",
        "            # deal with cases where tax data is not found for the provided country\n",
        "            print(f\"Error: Tax data not found for country {country_code}. (status code 404)\")\n",
        "            return None\n",
        "        else:\n",
        "            # deal with errors like rate limits, server errors, or invalid API keys\n",
        "            print(f\"Error: Failed to get global tax data (status code {response.status_code})\")\n",
        "            return None\n",
        "    except Exception as e:\n",
        "        # catch other exceptions during the request\n",
        "        print(f\"Error: {e}\")\n",
        "        return None"
      ],
      "metadata": {
        "id": "tawnM40ljyTU"
      },
      "execution_count": null,
      "outputs": []
    },
    {
      "cell_type": "markdown",
      "source": [
        "## 3. Tax Number Validation:\n",
        "This functionality was added to fully utilize the Tax Data API. It doesn't rely on the user's IP address as they are prompted to enter a country code (e.g AT for Austria) and then a Tax number.\n",
        "\n",
        "Following the successful API request, the function validates the given VAT number for a specific country. The endpoint https://api.apilayer.com/tax_data/validate?vat_number={vat_number}&country_code={country_code} is called to confirm if the VAT number is valid.\n",
        "If the response is successful, the function returns the validation details.\n",
        "\n",
        "Error handling accounts for cases where the VAT number cannot be found, potential API rate limits, or other network issues, ensuring that any errors are captured and communicated to the user.\n",
        "\n"
      ],
      "metadata": {
        "id": "E95U28-Yj-se"
      }
    },
    {
      "cell_type": "code",
      "source": [
        "# function to validate VAT number using the Tax Data API\n",
        "def validate_tax_number(vat_number, country_code, tax_data_api_key):\n",
        "    tax_api_url = f\"https://api.apilayer.com/tax_data/validate?vat_number={vat_number}&country_code={country_code}\"\n",
        "\n",
        "    headers = {\n",
        "        \"apikey\": tax_data_api_key\n",
        "    }\n",
        "\n",
        "    try:\n",
        "        response = requests.get(tax_api_url, headers=headers)\n",
        "        if response.status_code == 200:\n",
        "            return response.json()\n",
        "        elif response.status_code == 404:\n",
        "            # for cases where VAT data is not found\n",
        "            print(f\"Error: VAT data not found for VAT number {vat_number} in country {country_code}. (status code 404)\")\n",
        "            return None\n",
        "        else:\n",
        "            # for other API errors like rate limits or invalid requests\n",
        "            print(f\"Error: Failed to get VAT data (status code {response.status_code})\")\n",
        "            return None\n",
        "    except Exception as e:\n",
        "        # network issues or other exceptions\n",
        "        print(f\"Error: {e}\")\n",
        "        return None"
      ],
      "metadata": {
        "id": "Zencrz74kdzy"
      },
      "execution_count": null,
      "outputs": []
    },
    {
      "cell_type": "markdown",
      "source": [
        "## Tax Calculation:\n",
        "\n",
        "After performing the initial calculations, the function computes the sales tax and the total price for a given product.\n",
        "The tax amount is calculated as a percentage of the product price based on the provided tax rate.\n",
        "This function ensures that the final price is formatted correctly as both the sales tax and total prices are rounded to two decimal places for precision in financial transactions."
      ],
      "metadata": {
        "id": "bcfpu2D3kvBf"
      }
    },
    {
      "cell_type": "code",
      "source": [
        "# function to perform tax-compliant price calculation\n",
        "def calculate_sales_tax(price, tax_rate):\n",
        "    tax_amount = price * (tax_rate / 100)\n",
        "    total_price = price + tax_amount\n",
        "\n",
        "    # round both tax_amount and total_price to two decimal places\n",
        "    tax_amount = round(tax_amount, 2)\n",
        "    total_price = round(total_price, 2)\n",
        "    return tax_amount, total_price"
      ],
      "metadata": {
        "id": "f_A5y21TlALY"
      },
      "execution_count": null,
      "outputs": []
    },
    {
      "cell_type": "markdown",
      "source": [
        "## Display Menu:\n",
        "This function displays a simple text-based menu to the user, providing options such as retrieving tax rates, validating a tax number, or exiting the program.\n",
        "The user's choice is registered and returned for subsequent processing in the main."
      ],
      "metadata": {
        "id": "CWCPRf7zlZYH"
      }
    },
    {
      "cell_type": "code",
      "source": [
        "# function to show the main menu\n",
        "def show_menu():\n",
        "    print(\"\\nPlease choose an option:\")\n",
        "    print(\"1. Get Tax Rates\")\n",
        "    print(\"2. Validate Tax Number\")\n",
        "    print(\"3. Exit\")\n",
        "    choice = input(\"Enter your choice (1-3): \")\n",
        "    return choice\n"
      ],
      "metadata": {
        "id": "fatiHpOLlp01"
      },
      "execution_count": null,
      "outputs": []
    },
    {
      "cell_type": "markdown",
      "source": [
        "## Main Function:\n",
        "The main function ties everything together. It is responsible for the following:  retrieving API keys, displaying a menu, interacting with external APIs for tax rate and VAT number validation, handling different options the user selects from the menu as well as repeatedly showing the menu until the user chooses to exit the program.\n"
      ],
      "metadata": {
        "id": "36ExXqkOqtnQ"
      }
    },
    {
      "cell_type": "code",
      "source": [
        "def main():\n",
        "    #retrieves the API keys\n",
        "    ipstack_api_key, tax_data_api_key = get_api_keys()\n",
        "\n",
        "    #if not detected return\n",
        "    if not ipstack_api_key or not tax_data_api_key:\n",
        "        print(\"Cannot proceed without API keys.\")\n",
        "        return\n",
        "\n",
        "    #loop until user decides to exit\n",
        "    while True:\n",
        "        choice = show_menu()\n",
        "\n",
        "        if choice == '1':  # get Tax Rates\n",
        "            # automatically get the user's public IP address\n",
        "            ip_address = get_public_ip()\n",
        "            if not ip_address:\n",
        "                # if public IP address couldn't be retrieved, display an error and continue\n",
        "                print(\"Error: Could not retrieve public IP address.\")\n",
        "                continue\n",
        "\n",
        "            # get location data from IPstack\n",
        "            location_data = get_location_from_ip(ip_address, ipstack_api_key)\n",
        "\n",
        "            if location_data:\n",
        "                # extract country code and state code from location data\n",
        "                country_code = location_data.get(\"country_code\")\n",
        "                state_code = location_data.get(\"region_code\")\n",
        "                city = location_data.get(\"city\")\n",
        "                zip_code = location_data.get(\"zip\")\n",
        "\n",
        "                if country_code == \"US\" and state_code:\n",
        "                    # US-specific tax rates\n",
        "                    tax_data = get_us_tax_rates(state_code, tax_data_api_key)\n",
        "                    if tax_data:\n",
        "                        # obtain the combined tax rate and calculate sales tax\n",
        "                        combined_rate = tax_data[\"data\"][0].get(\"combined_rate\", 0) * 100\n",
        "                        print(f\"Tax Data for ZIP: {zip_code}:\")\n",
        "                        print(f\"State Rate: {tax_data['data'][0].get('state_rate', 0) * 100}%\")\n",
        "                        print(f\"County Rate: {tax_data['data'][0].get('county_rate', 0) * 100}%\")\n",
        "                        print(f\"City Rate: {tax_data['data'][0].get('city_rate', 0) * 100}%\")\n",
        "                        print(f\"Combined Rate: {combined_rate}%\")\n",
        "                        print(f\"Freight Taxable: {'Yes' if tax_data['data'][0].get('freight_taxable') else 'No'}\")\n",
        "\n",
        "                        # user input for the product price to calculate sales tax\n",
        "                        price = float(input(\"Enter the product price: \"))\n",
        "                        tax_amount, total_price = calculate_sales_tax(price, combined_rate)\n",
        "                        print(f\"Sales tax amount: {tax_amount}\")\n",
        "                        print(f\"Total price (including tax): {total_price}\")\n",
        "                    else:\n",
        "                        print(f\"No tax data available for state {state_code}.\")\n",
        "                else:\n",
        "                    # global tax rates for non-US locations\n",
        "                    tax_data = get_global_tax_info(country_code, tax_data_api_key)\n",
        "                    if tax_data:\n",
        "                        combined_rate = tax_data[\"standard_rate\"]\n",
        "                        print(f\"Combined sales tax rate for {city}, {country_code}: {combined_rate}%\")\n",
        "\n",
        "                        # user input for the product price to calculate sales tax\n",
        "                        price = float(input(\"Enter the product price: \"))\n",
        "                        tax_amount, total_price = calculate_sales_tax(price, combined_rate)\n",
        "                        print(f\"Sales tax amount: {tax_amount}\")\n",
        "                        print(f\"Total price (including tax): {total_price}\")\n",
        "                    else:\n",
        "                        print(f\"No tax data available for country {country_code}.\")\n",
        "            else:\n",
        "                print(\"Could not retrieve location information.\")\n",
        "\n",
        "        elif choice == '2':  # tax number validation\n",
        "            # user input for the country code and VAT number\n",
        "            country_code = input(\"Enter the country code (e.g., 'AT' for Austria): \")\n",
        "            vat_number = input(f\"Enter the VAT number for {country_code}: \")\n",
        "\n",
        "            # VAT number validation using the Tax Data API\n",
        "            vat_data = validate_tax_number(vat_number, country_code, tax_data_api_key)\n",
        "            if vat_data and vat_data.get(\"valid\"):\n",
        "                vat_rate = vat_data[\"format_valid\"]\n",
        "                print(f\"VAT number is valid for {vat_data['name']} in {vat_data['address']}.\")\n",
        "                print(f\"Combined VAT rate: {vat_rate}%\")\n",
        "            else:\n",
        "                print(f\"Invalid or unavailable VAT data for VAT number {vat_number}.\")\n",
        "\n",
        "        elif choice == '3':  # termination\n",
        "            print(\"Exiting program\")\n",
        "            break\n",
        "\n",
        "        else:\n",
        "            print(\"Invalid choice. Please try again.\")\n",
        "\n",
        "if __name__ == \"__main__\":\n",
        "    main()\n"
      ],
      "metadata": {
        "id": "HbYJkvmQrQSn"
      },
      "execution_count": null,
      "outputs": []
    },
    {
      "cell_type": "markdown",
      "source": [
        "## Entire Code:\n",
        "All the functions are collated on the code below."
      ],
      "metadata": {
        "id": "JK_CRPIgr-4w"
      }
    },
    {
      "cell_type": "code",
      "source": [
        "import requests\n",
        "from google.colab import userdata\n",
        "\n",
        "# function to retrieve API keys\n",
        "def get_api_keys():\n",
        "    #API key for IPstack\n",
        "    ipstack_api_key = userdata.get('IPSTACK_API_KEY')\n",
        "    #API key for Tax Data\n",
        "    tax_data_api_key = userdata.get('TAX_DATA_API_KEY')\n",
        "    #error handling\n",
        "    if not ipstack_api_key or not tax_data_api_key:\n",
        "        print(\"API keys are missing. Please set them as secrets in the 'Secrets' tab.\")\n",
        "        return None, None\n",
        "\n",
        "    return ipstack_api_key, tax_data_api_key\n",
        "\n",
        "# function to get the user's public IP address\n",
        "# error handling for network issues and invalid responses is included\n",
        "def get_public_ip():\n",
        "    try:\n",
        "        response = requests.get(\"https://api.ipify.org?format=json\")\n",
        "        if response.status_code == 200:\n",
        "            ip_data = response.json()\n",
        "            return ip_data[\"ip\"]\n",
        "        else:\n",
        "            # handle non-200 status codes, (API rate limits or server issues)\n",
        "            print(f\"Error: Could not retrieve public IP (status code {response.status_code})\")\n",
        "            return None\n",
        "    except Exception as e:\n",
        "        # catch and display any network errors or exceptions\n",
        "        print(f\"Error: {e}\")\n",
        "        return None\n",
        "\n",
        "# function to get location information from IP address\n",
        "# using IPstack API, with error handling for response codes\n",
        "def get_location_from_ip(ip_address, ipstack_api_key):\n",
        "    url = f\"http://api.ipstack.com/{ip_address}?access_key={ipstack_api_key}\"\n",
        "\n",
        "    try:\n",
        "        response = requests.get(url)\n",
        "        if response.status_code == 200:\n",
        "            return response.json()\n",
        "        else:\n",
        "            # handle  API rate limits or invalid keys\n",
        "            print(f\"Error: Failed to get location data (status code {response.status_code})\")\n",
        "            return None\n",
        "    except Exception as e:\n",
        "        # any exceptions that may occur during the request\n",
        "        print(f\"Error: {e}\")\n",
        "        return None\n",
        "\n",
        "# function to get US tax rates by state\n",
        "# using the Tax Data API, includes error handling and status code checks\n",
        "def get_us_tax_rates(state_code, tax_data_api_key):\n",
        "    tax_api_url = f\"https://api.apilayer.com/tax_data/us_rate_list?state={state_code}\"\n",
        "\n",
        "    headers = {\n",
        "        \"apikey\": tax_data_api_key\n",
        "    }\n",
        "\n",
        "    try:\n",
        "        response = requests.get(tax_api_url, headers=headers)\n",
        "        if response.status_code == 200:\n",
        "            return response.json()\n",
        "        elif response.status_code == 404:\n",
        "            # deal with cases where tax data is not available for the state\n",
        "            print(f\"Error: Tax data not found for state {state_code}. (status code 404)\")\n",
        "            return None\n",
        "        else:\n",
        "            # other potential API errors (rate limits or server issues)\n",
        "            print(f\"Error: Failed to get tax data (status code {response.status_code})\")\n",
        "            return None\n",
        "    except Exception as e:\n",
        "        # other  exceptions (such as network or server errors)\n",
        "        print(f\"Error: {e}\")\n",
        "        return None\n",
        "\n",
        "# function to get global tax rates for non-US locations\n",
        "# using the Tax Data API based on country code\n",
        "def get_global_tax_info(country_code, tax_data_api_key):\n",
        "    tax_api_url = f\"https://api.apilayer.com/tax_data/rates?country_code={country_code}\"\n",
        "\n",
        "    headers = {\n",
        "        \"apikey\": tax_data_api_key\n",
        "    }\n",
        "\n",
        "    try:\n",
        "        response = requests.get(tax_api_url, headers=headers)\n",
        "        if response.status_code == 200:\n",
        "            return response.json()\n",
        "        elif response.status_code == 404:\n",
        "            # deal with cases where tax data is not found for the provided country\n",
        "            print(f\"Error: Tax data not found for country {country_code}. (status code 404)\")\n",
        "            return None\n",
        "        else:\n",
        "            # deal with errors like rate limits, server errors, or invalid API keys\n",
        "            print(f\"Error: Failed to get global tax data (status code {response.status_code})\")\n",
        "            return None\n",
        "    except Exception as e:\n",
        "        # catch other exceptions during the request\n",
        "        print(f\"Error: {e}\")\n",
        "        return None\n",
        "\n",
        "# function to validate VAT number using the Tax Data API\n",
        "def validate_tax_number(vat_number, country_code, tax_data_api_key):\n",
        "    tax_api_url = f\"https://api.apilayer.com/tax_data/validate?vat_number={vat_number}&country_code={country_code}\"\n",
        "\n",
        "    headers = {\n",
        "        \"apikey\": tax_data_api_key\n",
        "    }\n",
        "\n",
        "    try:\n",
        "        response = requests.get(tax_api_url, headers=headers)\n",
        "        if response.status_code == 200:\n",
        "            return response.json()\n",
        "        elif response.status_code == 404:\n",
        "            # for cases where VAT data is not found\n",
        "            print(f\"Error: VAT data not found for VAT number {vat_number} in country {country_code}. (status code 404)\")\n",
        "            return None\n",
        "        else:\n",
        "            # for other API errors like rate limits or invalid requests\n",
        "            print(f\"Error: Failed to get VAT data (status code {response.status_code})\")\n",
        "            return None\n",
        "    except Exception as e:\n",
        "        # network issues or other exceptions\n",
        "        print(f\"Error: {e}\")\n",
        "        return None\n",
        "\n",
        "def calculate_sales_tax(price, tax_rate):\n",
        "    tax_amount = price * (tax_rate / 100)\n",
        "    total_price = price + tax_amount\n",
        "\n",
        "    # round both tax_amount and total_price to two decimal places\n",
        "    tax_amount = round(tax_amount, 2)\n",
        "    total_price = round(total_price, 2)\n",
        "    return tax_amount, total_price\n",
        "\n",
        "# function to show the main menu\n",
        "def show_menu():\n",
        "    print(\"\\nPlease choose an option:\")\n",
        "    print(\"1. Get Tax Rates\")\n",
        "    print(\"2. Validate Tax Number\")\n",
        "    print(\"3. Exit\")\n",
        "    choice = input(\"Enter your choice (1-3): \")\n",
        "    return choice\n",
        "\n",
        "def main():\n",
        "    #retrieves the API keys\n",
        "    ipstack_api_key, tax_data_api_key = get_api_keys()\n",
        "\n",
        "    #if not detected return\n",
        "    if not ipstack_api_key or not tax_data_api_key:\n",
        "        print(\"Cannot proceed without API keys.\")\n",
        "        return\n",
        "\n",
        "    #loop until user decides to exit\n",
        "    while True:\n",
        "        choice = show_menu()\n",
        "\n",
        "        if choice == '1':  # get Tax Rates\n",
        "            # automatically get the user's public IP address\n",
        "            ip_address = get_public_ip()\n",
        "            if not ip_address:\n",
        "                # if public IP address couldn't be retrieved, display an error and continue\n",
        "                print(\"Error: Could not retrieve public IP address.\")\n",
        "                continue\n",
        "\n",
        "            # get location data from IPstack\n",
        "            location_data = get_location_from_ip(ip_address, ipstack_api_key)\n",
        "\n",
        "            if location_data:\n",
        "                # extract country code and state code from location data\n",
        "                country_code = location_data.get(\"country_code\")\n",
        "                state_code = location_data.get(\"region_code\")\n",
        "                city = location_data.get(\"city\")\n",
        "                zip_code = location_data.get(\"zip\")\n",
        "\n",
        "                if country_code == \"US\" and state_code:\n",
        "                    # US-specific tax rates\n",
        "                    tax_data = get_us_tax_rates(state_code, tax_data_api_key)\n",
        "                    if tax_data:\n",
        "                        # obtain the combined tax rate and calculate sales tax\n",
        "                        combined_rate = tax_data[\"data\"][0].get(\"combined_rate\", 0) * 100\n",
        "                        print(f\"Tax Data for ZIP: {zip_code}:\")\n",
        "                        print(f\"State Rate: {tax_data['data'][0].get('state_rate', 0) * 100}%\")\n",
        "                        print(f\"County Rate: {tax_data['data'][0].get('county_rate', 0) * 100}%\")\n",
        "                        print(f\"City Rate: {tax_data['data'][0].get('city_rate', 0) * 100}%\")\n",
        "                        print(f\"Combined Rate: {combined_rate}%\")\n",
        "                        print(f\"Freight Taxable: {'Yes' if tax_data['data'][0].get('freight_taxable') else 'No'}\")\n",
        "\n",
        "                        # user input for the product price to calculate sales tax\n",
        "                        price = float(input(\"Enter the product price: \"))\n",
        "                        tax_amount, total_price = calculate_sales_tax(price, combined_rate)\n",
        "                        print(f\"Sales tax amount: {tax_amount}\")\n",
        "                        print(f\"Total price (including tax): {total_price}\")\n",
        "                    else:\n",
        "                        print(f\"No tax data available for state {state_code}.\")\n",
        "                else:\n",
        "                    # global tax rates for non-US locations\n",
        "                    tax_data = get_global_tax_info(country_code, tax_data_api_key)\n",
        "                    if tax_data:\n",
        "                        combined_rate = tax_data[\"standard_rate\"]\n",
        "                        print(f\"Combined sales tax rate for {city}, {country_code}: {combined_rate}%\")\n",
        "\n",
        "                        # user input for the product price to calculate sales tax\n",
        "                        price = float(input(\"Enter the product price: \"))\n",
        "                        tax_amount, total_price = calculate_sales_tax(price, combined_rate)\n",
        "                        print(f\"Sales tax amount: {tax_amount}\")\n",
        "                        print(f\"Total price (including tax): {total_price}\")\n",
        "                    else:\n",
        "                        print(f\"No tax data available for country {country_code}.\")\n",
        "            else:\n",
        "                print(\"Could not retrieve location information.\")\n",
        "\n",
        "        elif choice == '2':  # tax number validation\n",
        "            # user input for the country code and VAT number\n",
        "            country_code = input(\"Enter the country code (e.g., 'AT' for Austria): \")\n",
        "            vat_number = input(f\"Enter the VAT number for {country_code}: \")\n",
        "\n",
        "            # VAT number validation using the Tax Data API\n",
        "            vat_data = validate_tax_number(vat_number, country_code, tax_data_api_key)\n",
        "            if vat_data and vat_data.get(\"valid\"):\n",
        "                vat_rate = vat_data[\"format_valid\"]\n",
        "                print(f\"VAT number is valid for {vat_data['name']} in {vat_data['address']}.\")\n",
        "                print(f\"Combined VAT rate: {vat_rate}%\")\n",
        "            else:\n",
        "                print(f\"Invalid or unavailable VAT data for VAT number {vat_number}.\")\n",
        "\n",
        "        elif choice == '3':  # termination\n",
        "            print(\"Exiting program\")\n",
        "            break\n",
        "\n",
        "        else:\n",
        "            print(\"Invalid choice. Please try again.\")\n",
        "\n",
        "if __name__ == \"__main__\":\n",
        "    main()\n"
      ],
      "metadata": {
        "colab": {
          "base_uri": "https://localhost:8080/"
        },
        "id": "9k19ThyGsO4d",
        "outputId": "b6ba55b1-03ed-496b-f2af-4b8a5af6f2e2"
      },
      "execution_count": 1,
      "outputs": [
        {
          "output_type": "stream",
          "name": "stdout",
          "text": [
            "\n",
            "Please choose an option:\n",
            "1. Get Tax Rates\n",
            "2. Validate Tax Number\n",
            "3. Exit\n",
            "Enter your choice (1-3): 1\n",
            "Tax Data for ZIP: 51501:\n",
            "State Rate: 6.0%\n",
            "County Rate: 1.0%\n",
            "City Rate: 0%\n",
            "Combined Rate: 7.000000000000001%\n",
            "Freight Taxable: No\n",
            "Enter the product price: 34\n",
            "Sales tax amount: 2.38\n",
            "Total price (including tax): 36.38\n",
            "\n",
            "Please choose an option:\n",
            "1. Get Tax Rates\n",
            "2. Validate Tax Number\n",
            "3. Exit\n",
            "Enter your choice (1-3): 3\n",
            "Exiting program\n"
          ]
        }
      ]
    }
  ]
}